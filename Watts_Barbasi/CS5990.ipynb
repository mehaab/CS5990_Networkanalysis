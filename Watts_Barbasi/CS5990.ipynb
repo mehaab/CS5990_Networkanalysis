{
 "cells": [
  {
   "cell_type": "code",
   "execution_count": 91,
   "id": "ba46ad32",
   "metadata": {},
   "outputs": [],
   "source": [
    "import networkx as nx\n",
    "import matplotlib.pyplot as plt\n",
    "import pandas as pd\n",
    "import numpy as np\n",
    "import csv\n",
    "from operator import itemgetter\n",
    "import random\n",
    "from networkx.algorithms import community #This part of networkx, for community detection, needs to be imported separately."
   ]
  },
  {
   "cell_type": "code",
   "execution_count": 2,
   "id": "e35388ca",
   "metadata": {},
   "outputs": [],
   "source": [
    "with open('facebook.csv', 'r') as nodecsv: # Open the file\n",
    "    nodereader = csv.reader(nodecsv) # Read the csv\n",
    "    # Retrieve the data (using Python list comprhension and list slicing to remove the header row, see footnote 3)\n",
    "    nodes = [n for n in nodereader][1:]\n",
    "\n",
    "node_names = [n[0] for n in nodes] # Get a list of only the node names\n",
    "\n",
    "with open('facebook.csv', 'r') as edgecsv: # Open the file\n",
    "    edgereader = csv.reader(edgecsv) # Read the csv\n",
    "    edges = [tuple(e) for e in edgereader][1:] # Retrieve the data"
   ]
  },
  {
   "cell_type": "markdown",
   "id": "692302c7",
   "metadata": {},
   "source": [
    "# Initial graph G"
   ]
  },
  {
   "cell_type": "code",
   "execution_count": 3,
   "id": "db00c2a6",
   "metadata": {},
   "outputs": [],
   "source": [
    "G = nx.Graph() # Initialize a Graph object\n",
    "G.add_nodes_from(node_names) # Add nodes to the Graph\n",
    "G.add_edges_from(edges) # Add edges to the Graph|"
   ]
  },
  {
   "cell_type": "code",
   "execution_count": 93,
   "id": "caeafbdc",
   "metadata": {},
   "outputs": [
    {
     "name": "stdout",
     "output_type": "stream",
     "text": [
      "Graph with 4039 nodes and 88233 edges\n"
     ]
    }
   ],
   "source": [
    "print(nx.info(G)) # Print information about the Graph"
   ]
  },
  {
   "cell_type": "code",
   "execution_count": 94,
   "id": "5303d52b",
   "metadata": {},
   "outputs": [
    {
     "data": {
      "text/plain": [
       "0.6054912072684558"
      ]
     },
     "execution_count": 94,
     "metadata": {},
     "output_type": "execute_result"
    }
   ],
   "source": [
    "nx.average_clustering(G)"
   ]
  },
  {
   "cell_type": "code",
   "execution_count": null,
   "id": "ad41d168",
   "metadata": {},
   "outputs": [],
   "source": []
  },
  {
   "cell_type": "code",
   "execution_count": null,
   "id": "b557b125",
   "metadata": {},
   "outputs": [],
   "source": []
  },
  {
   "cell_type": "markdown",
   "id": "44bec4ac",
   "metadata": {},
   "source": [
    "# Watts Strogatz "
   ]
  },
  {
   "cell_type": "code",
   "execution_count": 76,
   "id": "25141b68",
   "metadata": {},
   "outputs": [],
   "source": [
    "def Watts_Strogatz(graph, degree, edge, t, seed=None):\n",
    "    \n",
    "    \"\"\"Parameters\n",
    "    graph :initial graph of facebook dataset\n",
    "    n :The number of nodes\n",
    "    degree: list of degrees from empirical distribution to give k\n",
    "    k : Each node is joined with its `k` nearest neighbors in a ring\n",
    "        topology. k is selected from an empirical distribution for each node.\n",
    "    t : The probability of rewiring each edge\n",
    "    seed :Seed for random number generator (default=None)\n",
    "    \"\"\"\n",
    "    if seed is not None:\n",
    "        random.seed(seed)\n",
    "    \n",
    "    G = nx.Graph()\n",
    "    n = random.choice(graph)\n",
    "    nodes = list(range(int(n))) # nodes are labeled 0 to n-1\n",
    "    G.add_nodes_from(nodes)\n",
    "    degrees = [] # Get a list of degrees for each node\n",
    "    for i in range(0, max(nodes)+1):\n",
    "        d = np.random.choice(degree)\n",
    "        degrees.append(d)\n",
    "\n",
    "        # connect each node to k/2 neighbors\n",
    "    for j in range(0, max(nodes) + 1):\n",
    "        l = degrees[j]\n",
    "        k = (int(l - G.degree(j)))//2+1\n",
    "        # Forward nodes to connect from j\n",
    "        if (j + k) <= max(nodes):\n",
    "            for p1 in range(1, k):\n",
    "                if G.degree(j) < degrees[j]:\n",
    "                    if random.random() < t:\n",
    "                        w = random.choice(nodes)\n",
    "                        if w != j: \n",
    "                            if G.degree(w) < degrees[w]:\n",
    "                                G.add_edge(j,w)\n",
    "                            else:\n",
    "                                pass\n",
    "                        else:\n",
    "                            pass\n",
    "                    else:\n",
    "                        G.add_edge(j, j + p1)\n",
    "                else:\n",
    "                    pass\n",
    "    \n",
    "        elif (j + k) > max(nodes):\n",
    "            z = max(nodes) - j\n",
    "            for p2 in range (1, z):\n",
    "                if G.degree(j) < degrees[j]:\n",
    "                    if random.random() < t:\n",
    "                        w = random.choice(nodes)\n",
    "                        if w != j: \n",
    "                            if G.degree(w) < degrees[w]:\n",
    "                                G.add_edge(j,w)\n",
    "                            else:\n",
    "                                pass\n",
    "                        else:\n",
    "                            pass\n",
    "                    else:\n",
    "                        G.add_edge(j, j + p2)\n",
    "                else:\n",
    "                    pass\n",
    "            y = k - z\n",
    "            for p3 in range (1, y):\n",
    "                if G.degree(j) < degrees[j]:\n",
    "                    if random.random() < t:\n",
    "                        w = random.choice(nodes)\n",
    "                        if w != j: \n",
    "                            if G.degree(w) < degrees[w]:\n",
    "                                G.add_edge(j,w)\n",
    "                            else:\n",
    "                                pass\n",
    "                        else:\n",
    "                            pass\n",
    "                    else:\n",
    "                        G.add_edge(j, 0 + p3)\n",
    "                else:\n",
    "                    pass\n",
    "        # Backward nodes to connect from j\n",
    "        if (j - k) >= 0:\n",
    "            for s1 in range(1, k):\n",
    "                if G.degree(j) < degrees[j]:\n",
    "                    if random.random() < t:\n",
    "                        w = random.choice(nodes)\n",
    "                        if w != j: \n",
    "                            if G.degree(w) < degrees[w]:\n",
    "                                G.add_edge(j,w)\n",
    "                            else:\n",
    "                                pass\n",
    "                        else:\n",
    "                            pass\n",
    "                    else:\n",
    "                        G.add_edge(j, j - s1)\n",
    "                else:\n",
    "                    pass\n",
    "  \n",
    "        elif (j + k) < 0:\n",
    "            z = j - 0\n",
    "            for s2 in range (1, z):\n",
    "                if G.degree(j) < degrees[j]:\n",
    "                    if random.random() < t:\n",
    "                        w = random.choice(nodes)\n",
    "                        if w != j: \n",
    "                            if G.degree(w) < degrees[w]:\n",
    "                                G.add_edge(j,w)\n",
    "                            else:\n",
    "                                pass\n",
    "                        else:\n",
    "                            pass\n",
    "                    else:\n",
    "                        G.add_edge(j, j - s2)\n",
    "                else:\n",
    "                    pass\n",
    "            y = k - z\n",
    "            for s2 in range (1, y):\n",
    "                if G.degree(j) < degrees[j]:\n",
    "                    if random.random() < t:\n",
    "                        w = random.choice(nodes)\n",
    "                        if w != j: \n",
    "                            if G.degree(w) < degrees[w]:\n",
    "                                G.add_edge(j,w)\n",
    "                            else:\n",
    "                                pass\n",
    "                        else:\n",
    "                            pass\n",
    "                    else:\n",
    "                        G.add_edge(j, max(nodes) - s2)\n",
    "                else:\n",
    "                    pass\n",
    "        else:\n",
    "            pass\n",
    "    # This algorithm adds edges to k-nearest neighbours to complete required degree distribution                    \n",
    "    for j in range(0, max(nodes) + 1):\n",
    "        m = 1\n",
    "        while G.degree(j) < degrees[j] and m <= max(nodes):\n",
    "            if (j + m) <= max(nodes):\n",
    "                if G.degree(m) < degrees[m]:\n",
    "                    if j != m:\n",
    "                        G.add_edge(j, m)\n",
    "            else:\n",
    "                r = (j - max(nodes)) + m -1\n",
    "                if G.degree(r) < degrees[r]:\n",
    "                    G.add_edge(j, r)\n",
    "            m = m + 1\n",
    "\n",
    "    return G\n"
   ]
  },
  {
   "cell_type": "code",
   "execution_count": 16,
   "id": "e9c466e3",
   "metadata": {},
   "outputs": [
    {
     "data": {
      "text/plain": [
       "<function __main__.VB_watts_strogatz(nodes_list, degree, edge, t, seed=None)>"
      ]
     },
     "execution_count": 16,
     "metadata": {},
     "output_type": "execute_result"
    }
   ],
   "source": [
    "Watts_Strogatz()"
   ]
  },
  {
   "cell_type": "code",
   "execution_count": 17,
   "id": "e2894fe2",
   "metadata": {},
   "outputs": [],
   "source": [
    "graph = []"
   ]
  },
  {
   "cell_type": "code",
   "execution_count": 18,
   "id": "60a683d2",
   "metadata": {},
   "outputs": [],
   "source": [
    "graph.append(len(G.nodes()))"
   ]
  },
  {
   "cell_type": "code",
   "execution_count": 19,
   "id": "08bffdf8",
   "metadata": {},
   "outputs": [
    {
     "data": {
      "text/plain": [
       "[4039]"
      ]
     },
     "execution_count": 19,
     "metadata": {},
     "output_type": "execute_result"
    }
   ],
   "source": [
    "graph"
   ]
  },
  {
   "cell_type": "code",
   "execution_count": 21,
   "id": "9619dafe",
   "metadata": {},
   "outputs": [],
   "source": [
    "avg_deg_lis = nx.average_neighbor_degree(G)"
   ]
  },
  {
   "cell_type": "code",
   "execution_count": 23,
   "id": "07c2c437",
   "metadata": {},
   "outputs": [],
   "source": [
    "tot_deg = 0\n",
    "for key, value in avg_deg_lis.items():\n",
    "    tot_deg += value"
   ]
  },
  {
   "cell_type": "code",
   "execution_count": 24,
   "id": "0a47226e",
   "metadata": {},
   "outputs": [
    {
     "data": {
      "text/plain": [
       "105.53199984885781"
      ]
     },
     "execution_count": 24,
     "metadata": {},
     "output_type": "execute_result"
    }
   ],
   "source": [
    "tot_deg/4039"
   ]
  },
  {
   "cell_type": "code",
   "execution_count": null,
   "id": "a04ad122",
   "metadata": {},
   "outputs": [],
   "source": []
  },
  {
   "cell_type": "code",
   "execution_count": 30,
   "id": "3a4d6666",
   "metadata": {},
   "outputs": [],
   "source": [
    "degrees = []\n",
    "for key, value in avg_deg_lis.items():\n",
    "    degrees.append(value)"
   ]
  },
  {
   "cell_type": "code",
   "execution_count": null,
   "id": "59febff2",
   "metadata": {},
   "outputs": [],
   "source": []
  },
  {
   "cell_type": "code",
   "execution_count": 40,
   "id": "617621d8",
   "metadata": {},
   "outputs": [],
   "source": [
    "edge = G.edges"
   ]
  },
  {
   "cell_type": "code",
   "execution_count": 42,
   "id": "2fa2c537",
   "metadata": {},
   "outputs": [
    {
     "data": {
      "text/plain": [
       "<function __main__.VB_watts_strogatz(nodes_list, degree, edge, t, seed=None)>"
      ]
     },
     "execution_count": 42,
     "metadata": {},
     "output_type": "execute_result"
    }
   ],
   "source": []
  },
  {
   "cell_type": "code",
   "execution_count": 78,
   "id": "af2be04c",
   "metadata": {},
   "outputs": [],
   "source": [
    "final_G = Watts_Strogatz(graph, degrees, edge, 0.1, seed=None)"
   ]
  },
  {
   "cell_type": "code",
   "execution_count": 85,
   "id": "f0e3249d",
   "metadata": {},
   "outputs": [
    {
     "data": {
      "text/plain": [
       "0.6285567855418532"
      ]
     },
     "execution_count": 85,
     "metadata": {},
     "output_type": "execute_result"
    }
   ],
   "source": [
    "nx.average_clustering(final_G)"
   ]
  },
  {
   "cell_type": "code",
   "execution_count": 87,
   "id": "b773c4f8",
   "metadata": {},
   "outputs": [
    {
     "data": {
      "text/plain": [
       "4039"
      ]
     },
     "execution_count": 87,
     "metadata": {},
     "output_type": "execute_result"
    }
   ],
   "source": [
    "len(final_G.nodes)"
   ]
  },
  {
   "cell_type": "code",
   "execution_count": 88,
   "id": "8abf4b29",
   "metadata": {},
   "outputs": [
    {
     "data": {
      "text/plain": [
       "226055"
      ]
     },
     "execution_count": 88,
     "metadata": {},
     "output_type": "execute_result"
    }
   ],
   "source": [
    "len(final_G.edges)"
   ]
  },
  {
   "cell_type": "code",
   "execution_count": 90,
   "id": "d597ba2f",
   "metadata": {},
   "outputs": [
    {
     "data": {
      "image/png": "[encoded data removed]",
      "text/plain": [
       "<Figure size 432x288 with 1 Axes>"
      ]
     },
     "metadata": {},
     "output_type": "display_data"
    }
   ],
   "source": [
    "nx.draw(final_G, node_size = 1, edge_color= 'yellow')"
   ]
  },
  {
   "cell_type": "code",
   "execution_count": null,
   "id": "26d39b76",
   "metadata": {},
   "outputs": [],
   "source": []
  }
 ],
 "metadata": {
  "kernelspec": {
   "display_name": "Python 3 (ipykernel)",
   "language": "python",
   "name": "python3"
  },
  "language_info": {
   "codemirror_mode": {
    "name": "ipython",
    "version": 3
   },
   "file_extension": ".py",
   "mimetype": "text/x-python",
   "name": "python",
   "nbconvert_exporter": "python",
   "pygments_lexer": "ipython3",
   "version": "3.9.7"
  }
 },
 "nbformat": 4,
 "nbformat_minor": 5
}
